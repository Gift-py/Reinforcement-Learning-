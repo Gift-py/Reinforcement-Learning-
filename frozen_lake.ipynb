{
 "cells": [
  {
   "cell_type": "markdown",
   "metadata": {},
   "source": [
    "Frozen lake\n",
    "Reinforcement learing\n",
    "\n",
    "FrozenLake environment consists of a 4 by 4 grid representing a surface. The agent always starts from the state 0 (S), [0,0] in the grid, and his goal is to reach the state 16 (G), [4,4] in the grid. On his way, he could find some frozen surfaces (F) or fall in a hole (H). If he falls, the episode is ended. When the agent reaches the goal, the reward is equal to one. Otherwise, it is equal to 0.\n",
    "\n",
    "ILLUSTRATIVE INSTANCE\n",
    "\n",
    "S F F F /\n",
    "F H F H /\n",
    "F F F H /\n",
    "H F F G /\n"
   ]
  },
  {
   "cell_type": "code",
   "execution_count": 1,
   "metadata": {},
   "outputs": [],
   "source": [
    "import numpy as np\n",
    "import gym\n",
    "\n",
    "#gym python library for RL (can do a lot of cool stuffs, envs, spaces etc)"
   ]
  },
  {
   "cell_type": "code",
   "execution_count": 3,
   "metadata": {},
   "outputs": [
    {
     "name": "stderr",
     "output_type": "stream",
     "text": [
      "C:\\Users\\Gift\\AppData\\Local\\Packages\\PythonSoftwareFoundation.Python.3.10_qbz5n2kfra8p0\\LocalCache\\local-packages\\Python310\\site-packages\\gym\\core.py:329: DeprecationWarning: \u001b[33mWARN: Initializing wrapper in old step API which returns one bool instead of two. It is recommended to set `new_step_api=True` to use new step API. This will be the default behaviour in future.\u001b[0m\n",
      "  deprecation(\n",
      "C:\\Users\\Gift\\AppData\\Local\\Packages\\PythonSoftwareFoundation.Python.3.10_qbz5n2kfra8p0\\LocalCache\\local-packages\\Python310\\site-packages\\gym\\wrappers\\step_api_compatibility.py:39: DeprecationWarning: \u001b[33mWARN: Initializing environment in old step API which returns one bool instead of two. It is recommended to set `new_step_api=True` to use new step API. This will be the default behaviour in future.\u001b[0m\n",
      "  deprecation(\n"
     ]
    }
   ],
   "source": [
    "#instantiate the enviroment, get sizes\n",
    "env = gym.make('FrozenLake-v1')\n",
    "n_observations = env.observation_space.n\n",
    "n_actions = env.action_space.n"
   ]
  },
  {
   "cell_type": "code",
   "execution_count": 11,
   "metadata": {},
   "outputs": [
    {
     "name": "stdout",
     "output_type": "stream",
     "text": [
      "[[0. 0. 0. 0.]\n",
      " [0. 0. 0. 0.]\n",
      " [0. 0. 0. 0.]\n",
      " [0. 0. 0. 0.]\n",
      " [0. 0. 0. 0.]\n",
      " [0. 0. 0. 0.]\n",
      " [0. 0. 0. 0.]\n",
      " [0. 0. 0. 0.]\n",
      " [0. 0. 0. 0.]\n",
      " [0. 0. 0. 0.]\n",
      " [0. 0. 0. 0.]\n",
      " [0. 0. 0. 0.]\n",
      " [0. 0. 0. 0.]\n",
      " [0. 0. 0. 0.]\n",
      " [0. 0. 0. 0.]\n",
      " [0. 0. 0. 0.]]\n"
     ]
    }
   ],
   "source": [
    "#to initialize Q-table to zero\n",
    "Q_table = np.zeros((n_observations, n_actions))\n",
    "print(Q_table)"
   ]
  },
  {
   "cell_type": "code",
   "execution_count": 42,
   "metadata": {},
   "outputs": [],
   "source": [
    "#defining parameters and hyperparameters\n",
    "#number of episodes to run\n",
    "n_episodes = 50000\n",
    "\n",
    "#max iter per episode\n",
    "max_iter_episode = 100\n",
    "\n",
    "#exploration probability\n",
    "exp_prob = 1\n",
    "\n",
    "#exploration decay (exponential)\n",
    "exp_decreasing_decay = 0.001\n",
    "\n",
    "#minimum of exploration probability\n",
    "min_exp_prob = 0.01\n",
    "\n",
    "#discounted factor\n",
    "gamma = 0.99\n",
    "\n",
    "#learning rate\n",
    "lr = 0.1"
   ]
  },
  {
   "cell_type": "code",
   "execution_count": 43,
   "metadata": {},
   "outputs": [],
   "source": [
    "reward_per_episode = list()\n",
    "\n",
    "#store a list of rewards for each episode and evaluate after training ends"
   ]
  },
  {
   "cell_type": "code",
   "execution_count": 44,
   "metadata": {},
   "outputs": [],
   "source": [
    "#MAIN LOOP\n",
    "#iterate over episodes\n",
    "for e in range(n_episodes):\n",
    "    #init first state of the episode\n",
    "    current_state = env.reset()\n",
    "    done = False\n",
    "\n",
    "    #sum of rewards the agent gets from the env in current episode\n",
    "    total_episode_reward = 0\n",
    "\n",
    "    for i in range(max_iter_episode):\n",
    "        #we sample a float from a uniform distribution between 0 and 1\n",
    "        #if the sampled float is less than the exploration probability\n",
    "        #   agent selects a random action (explore choices)\n",
    "        #else\n",
    "        #   agent exploits knowledge using bellman's equation\n",
    "\n",
    "        if np.random.uniform(0, 1) < exp_prob:\n",
    "            action = env.action_space.sample()\n",
    "        else:\n",
    "            action = np.argmax(Q_table[current_state, :])\n",
    "        \n",
    "        #the environment runs the chosen action action and returns \n",
    "        #the next state, a reward, and true if the episode has ended.\n",
    "        next_state, reward, done, _ = env.step(action)\n",
    "\n",
    "        #update Q_table using Q-learing iteration\n",
    "        Q_table[current_state, action] = (1 - lr) * Q_table[current_state, action] + lr*(reward + gamma*max(Q_table[next_state, :]))\n",
    "        total_episode_reward = total_episode_reward + reward\n",
    "        \n",
    "        #if episode has ended we leave loop \n",
    "        if done:\n",
    "            break\n",
    "        #else we go to the next state\n",
    "        current_state = next_state\n",
    "\n",
    "    #we update the exploration exponential using decay formular\n",
    "    exp_prob = max(min_exp_prob, np.exp(-exp_decreasing_decay*e))\n",
    "    reward_per_episode.append(total_episode_reward)\n",
    "\n"
   ]
  },
  {
   "cell_type": "code",
   "execution_count": 45,
   "metadata": {},
   "outputs": [
    {
     "name": "stdout",
     "output_type": "stream",
     "text": [
      "Mean reward per thousand episodes\n",
      "1000 : mean episode reward: 0.053\n",
      "2000 : mean episode reward: 0.213\n",
      "3000 : mean episode reward: 0.43\n",
      "4000 : mean episode reward: 0.585\n",
      "5000 : mean episode reward: 0.662\n",
      "6000 : mean episode reward: 0.688\n",
      "7000 : mean episode reward: 0.692\n",
      "8000 : mean episode reward: 0.698\n",
      "9000 : mean episode reward: 0.69\n",
      "10000 : mean episode reward: 0.669\n",
      "11000 : mean episode reward: 0.69\n",
      "12000 : mean episode reward: 0.671\n",
      "13000 : mean episode reward: 0.698\n",
      "14000 : mean episode reward: 0.705\n",
      "15000 : mean episode reward: 0.696\n",
      "16000 : mean episode reward: 0.669\n",
      "17000 : mean episode reward: 0.69\n",
      "18000 : mean episode reward: 0.67\n",
      "19000 : mean episode reward: 0.692\n",
      "20000 : mean episode reward: 0.667\n",
      "21000 : mean episode reward: 0.685\n",
      "22000 : mean episode reward: 0.718\n",
      "23000 : mean episode reward: 0.679\n",
      "24000 : mean episode reward: 0.651\n",
      "25000 : mean episode reward: 0.688\n",
      "26000 : mean episode reward: 0.684\n",
      "27000 : mean episode reward: 0.688\n",
      "28000 : mean episode reward: 0.682\n",
      "29000 : mean episode reward: 0.672\n",
      "30000 : mean episode reward: 0.702\n",
      "31000 : mean episode reward: 0.666\n",
      "32000 : mean episode reward: 0.701\n",
      "33000 : mean episode reward: 0.719\n",
      "34000 : mean episode reward: 0.699\n",
      "35000 : mean episode reward: 0.662\n",
      "36000 : mean episode reward: 0.677\n",
      "37000 : mean episode reward: 0.713\n",
      "38000 : mean episode reward: 0.677\n",
      "39000 : mean episode reward: 0.684\n",
      "40000 : mean episode reward: 0.682\n",
      "41000 : mean episode reward: 0.674\n",
      "42000 : mean episode reward: 0.686\n",
      "43000 : mean episode reward: 0.692\n",
      "44000 : mean episode reward: 0.698\n",
      "45000 : mean episode reward: 0.694\n",
      "46000 : mean episode reward: 0.625\n",
      "47000 : mean episode reward: 0.652\n",
      "48000 : mean episode reward: 0.671\n",
      "49000 : mean episode reward: 0.713\n",
      "50000 : mean episode reward: 0.675\n"
     ]
    }
   ],
   "source": [
    "print(\"Mean reward per thousand episodes\")\n",
    "data = []\n",
    "for i in range(50):\n",
    "    data.append(np.mean(reward_per_episode[1000*i:1000*(i+1)]))\n",
    "    print((i+1)*1000, \": mean episode reward:\", data[i])"
   ]
  },
  {
   "cell_type": "markdown",
   "metadata": {},
   "source": [
    "If you notice the results there was a peak as iter 6000 but then it dropped again\n",
    "I really don't know why\n",
    "I could try increasing the training (number of episodes)\n",
    "or maybe perhaps other parameters \n",
    "\n",
    "I dont know for sure\n",
    "But i can only get certain by testing\n",
    "\n",
    "or perhaps algebra 🤠\n",
    "\n",
    "EXCITING !!!"
   ]
  },
  {
   "cell_type": "code",
   "execution_count": 46,
   "metadata": {},
   "outputs": [],
   "source": [
    "itr = [x+1 for x in range(50)]"
   ]
  },
  {
   "cell_type": "code",
   "execution_count": 47,
   "metadata": {},
   "outputs": [
    {
     "data": {
      "image/png": "[encoded data removed]",
      "text/plain": [
       "<Figure size 432x288 with 1 Axes>"
      ]
     },
     "metadata": {
      "needs_background": "light"
     },
     "output_type": "display_data"
    }
   ],
   "source": [
    "\n",
    "import matplotlib.pyplot as plt\n",
    "%matplotlib inline\n",
    "\n",
    "plt.plot(itr, data)\n",
    "plt.xlabel('n(th) iteration (x1000)')\n",
    "plt.ylabel('reward value')\n",
    "plt.title('Reward distribution for every thousanth iter')\n",
    "plt.show()"
   ]
  },
  {
   "cell_type": "markdown",
   "metadata": {},
   "source": [
    "well then\n",
    "i guess that sums it up\n",
    "\n",
    "to get better avg rewards (> 0.7)\n",
    "we might have to tune the parameters 👀\n",
    "\n",
    "not sure tho\n",
    "I'm still a noob\n",
    "\n",
    "Source: https://towardsdatascience.com/q-learning-algorithm-from-explanation-to-implementation-cdbeda2ea187"
   ]
  }
 ],
 "metadata": {
  "kernelspec": {
   "display_name": "Python 3.10.6 64-bit (windows store)",
   "language": "python",
   "name": "python3"
  },
  "language_info": {
   "codemirror_mode": {
    "name": "ipython",
    "version": 3
   },
   "file_extension": ".py",
   "mimetype": "text/x-python",
   "name": "python",
   "nbconvert_exporter": "python",
   "pygments_lexer": "ipython3",
   "version": "3.10.6"
  },
  "orig_nbformat": 4,
  "vscode": {
   "interpreter": {
    "hash": "1fb6802bca10536631454388dc7754e14df50e11a5efcab5b6d4dac13af1b70b"
   }
  }
 },
 "nbformat": 4,
 "nbformat_minor": 2
}
